{
 "cells": [
  {
   "cell_type": "code",
   "execution_count": null,
   "id": "e1087065",
   "metadata": {},
   "outputs": [
    {
     "name": "stdout",
     "output_type": "stream",
     "text": [
      "-4\n",
      "4\n"
     ]
    }
   ],
   "source": [
    "# Read pythonfunctionsnumbers.md for a list of functions that are built into Python.\n",
    "\n",
    "# This is the usual syntax for a function\n",
    "variablename = functionname(param[,param])\n",
    "\n",
    "# Example of a function\n",
    "x = -4\n",
    "y = abs(x)\n",
    "print(x)\n",
    "print(y)\n",
    "\n",
    "# Output:\n",
    "-4\n",
    "4"
   ]
  },
  {
   "cell_type": "code",
   "execution_count": null,
   "id": "2e3c098b",
   "metadata": {},
   "outputs": [
    {
     "name": "stdout",
     "output_type": "stream",
     "text": [
      "9.0\n"
     ]
    }
   ],
   "source": [
    "# Read pythonfunctionsmathmodule.md for a list of functions in the math module.\n",
    "\n",
    "import math\n",
    "z = 81\n",
    "print(math.sqrt(z))\n",
    "\n",
    "# Output:\n",
    "9.0"
   ]
  },
  {
   "cell_type": "code",
   "execution_count": 5,
   "id": "b0f4854d",
   "metadata": {},
   "outputs": [
    {
     "name": "stdout",
     "output_type": "stream",
     "text": [
      "Hello Alan\n"
     ]
    }
   ],
   "source": [
    "''' This is called a f-string. It is the easiest way to format strings in Python. All you need is a lowercase f or uppercase F followed immediately by some text enclosed in quotation marks. Here is an example:\n",
    "f\"Hello {username}\"\n",
    "\n",
    "'''\n",
    "\n",
    "# Here is an example of an f-string in use:\n",
    "username = \"Alan\"\n",
    "print(f\"Hello {username}\")\n",
    "\n",
    "# Output:\n",
    "# Hello Alan"
   ]
  }
 ],
 "metadata": {
  "kernelspec": {
   "display_name": "Python 3",
   "language": "python",
   "name": "python3"
  },
  "language_info": {
   "codemirror_mode": {
    "name": "ipython",
    "version": 3
   },
   "file_extension": ".py",
   "mimetype": "text/x-python",
   "name": "python",
   "nbconvert_exporter": "python",
   "pygments_lexer": "ipython3",
   "version": "3.12.1"
  }
 },
 "nbformat": 4,
 "nbformat_minor": 5
}
